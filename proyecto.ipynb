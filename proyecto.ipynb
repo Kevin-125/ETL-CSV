{
 "cells": [
  {
   "cell_type": "code",
   "execution_count": null,
   "metadata": {},
   "outputs": [],
   "source": [
    "import pandas as pd\n",
    "\n",
    "df = pd.read_csv(\"data.csv\", delimiter = ',', encoding= 'unicode_Escape') \n",
    "\n",
    "print(df)\n",
    "#se crea el DataFreme para leer el archivo csv y se especifica que los campos estan delimitados por \",\""
   ]
  },
  {
   "cell_type": "code",
   "execution_count": null,
   "metadata": {},
   "outputs": [],
   "source": [
    "df.info()\n",
    "#nos muestra un resumen de la informacion que contiene el DataFrame "
   ]
  },
  {
   "cell_type": "code",
   "execution_count": null,
   "metadata": {},
   "outputs": [],
   "source": [
    "df = df.rename(columns={'Country' : 'cuidad' , 'CustomerID' : 'ID_cliente' , 'UnitPrice' : 'precio_unico' , 'InvoiceDate' : 'fecha_factura' , 'Quantity' : 'Cantidad' , 'Description' : 'Descripcion' , 'StockCode' : 'stock_codigo' , 'InvoiceNo' : 'numero_factura'})\n",
    "#se renombran las columnas que vienen del archivo csv"
   ]
  },
  {
   "cell_type": "code",
   "execution_count": null,
   "metadata": {},
   "outputs": [],
   "source": [
    "df.head()\n",
    "#nos muestra el encabezado del DataFrame"
   ]
  },
  {
   "cell_type": "code",
   "execution_count": null,
   "metadata": {},
   "outputs": [],
   "source": [
    "df['ID_cliente'] = df ['ID_cliente'].astype(str)\n",
    "#convierte la columna 'ID_cliente' del DataFrame en una (cadena de texto)"
   ]
  },
  {
   "cell_type": "code",
   "execution_count": null,
   "metadata": {},
   "outputs": [],
   "source": [
    "\n",
    "df.info()\n",
    "#nos muestra un resumen de la informacion que contiene el DataFrame "
   ]
  },
  {
   "cell_type": "code",
   "execution_count": null,
   "metadata": {},
   "outputs": [],
   "source": [
    "df.dropna(subset=['ID_cliente'], inplace=True) #drop borrar buscar en la columna un numero igual y lo que hace es borrarlo"
   ]
  },
  {
   "cell_type": "code",
   "execution_count": null,
   "metadata": {},
   "outputs": [],
   "source": [
    "def agregar_cero(x): #para agregar a la columna ID_cliente un cero a la izquierda, por si cree el id cliente\n",
    "     if len(x) <=8:\n",
    "          return  '0' + x\n",
    "     else:\n",
    "          return x"
   ]
  },
  {
   "cell_type": "code",
   "execution_count": null,
   "metadata": {},
   "outputs": [],
   "source": [
    "df['ID_cliente'] = df['ID_cliente'].apply(agregar_cero)\n",
    "#aplicar un 0 en cada elemento de la columna  ID_cliente"
   ]
  },
  {
   "cell_type": "code",
   "execution_count": null,
   "metadata": {},
   "outputs": [],
   "source": [
    "df.head()\n",
    "#nos muestra el encabezado del DataFrame"
   ]
  },
  {
   "cell_type": "code",
   "execution_count": null,
   "metadata": {},
   "outputs": [],
   "source": [
    "df['segmentacion_cliente'] = df['stock_codigo'].apply(lambda x : 'VIP' if x.endswith('A') else  'PLATA' if x.endswith('B') else 'BASICO' if x.endswith('') else None)\n",
    "#se crea una nueva columna 'segmentacion_cliente' y se aplica si el cliente es VIP, PLATA, BASICO O NONE"
   ]
  },
  {
   "cell_type": "code",
   "execution_count": null,
   "metadata": {},
   "outputs": [],
   "source": [
    "df['segmentacion_cliente'] = df['stock_codigo'].apply(lambda b : 'BASICO' if b.endswith('B') else None)\n",
    "#en la columna 'segmentacion_cliente' se rellena con valores 'BASICO' si el valor en la columna 'stock_codigo' termina con la letra 'B'"
   ]
  },
  {
   "cell_type": "code",
   "execution_count": null,
   "metadata": {},
   "outputs": [],
   "source": [
    "df.head()\n",
    "#nos muestra el encabezado del DataFrame"
   ]
  },
  {
   "cell_type": "code",
   "execution_count": null,
   "metadata": {},
   "outputs": [],
   "source": [
    "nombre_nuevo_archivo = 'datos_transformados.xlsx'\n",
    "df.to_excel(nombre_nuevo_archivo,index=False)\n",
    "#se guarda el DataFrame en un nuevo archivo excel llamado 'datos_transformados.xlsx'"
   ]
  }
 ],
 "metadata": {
  "kernelspec": {
   "display_name": "Python 3",
   "language": "python",
   "name": "python3"
  },
  "language_info": {
   "codemirror_mode": {
    "name": "ipython",
    "version": 3
   },
   "file_extension": ".py",
   "mimetype": "text/x-python",
   "name": "python",
   "nbconvert_exporter": "python",
   "pygments_lexer": "ipython3",
   "version": "3.12.0"
  },
  "orig_nbformat": 4
 },
 "nbformat": 4,
 "nbformat_minor": 2
}
